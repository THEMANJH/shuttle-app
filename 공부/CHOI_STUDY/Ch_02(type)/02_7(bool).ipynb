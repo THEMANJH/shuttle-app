{
 "cells": [
  {
   "cell_type": "code",
   "execution_count": 1,
   "metadata": {},
   "outputs": [],
   "source": [
    "# bool 자료형 : 참과 거짓 (True or False)를 나타내는 자료형\n",
    "\n",
    "# True : 참을 의미\n",
    "# False : 거짓을 의미\n",
    "\n",
    "# 첫글자 항상 대문자로"
   ]
  },
  {
   "cell_type": "code",
   "execution_count": null,
   "metadata": {},
   "outputs": [
    {
     "name": "stdout",
     "output_type": "stream",
     "text": [
      "<class 'bool'>\n",
      "<class 'bool'>\n",
      "True\n",
      "True\n",
      "False\n"
     ]
    }
   ],
   "source": [
    "# 자료형 확인 >> type()\n",
    "a = True  # true (소문자)로 쓰면 오류 발생\n",
    "b = False\n",
    "\n",
    "print(type(a))\n",
    "print(type(b))\n",
    "\n",
    "print(1 == 1)  # 1과 1은 같으므로 True 반환\n",
    "print(2 > 1)\n",
    "print(3 == 1)  # 3과 1은 같이 않으므로 False 반환"
   ]
  },
  {
   "cell_type": "code",
   "execution_count": 20,
   "metadata": {},
   "outputs": [
    {
     "name": "stdout",
     "output_type": "stream",
     "text": [
      "3\n",
      "2\n",
      "1\n",
      "[]\n",
      "True\n"
     ]
    }
   ],
   "source": [
    "# \"문자열\", [리스트], (튜플), {딕셔너리} 모두 그 안의 값이 비어있지 않으면 True(참)인 자료형이 됨\n",
    "# 숫자는 1은 True, 0은 False로 구분됨\n",
    "# None은 False로 구분됨\n",
    "\n",
    "string1 = \"python\"\n",
    "string2 = \"\"\n",
    "\n",
    "list1 = [1, 2, 3]\n",
    "list2 = list()\n",
    "\n",
    "tuple1 = (1, 2, 3)\n",
    "tuple2 = ()\n",
    "\n",
    "dict1 = {\"Korea\": \"Seoul\"}\n",
    "dict2 = dict()\n",
    "\n",
    "one = 1\n",
    "zero = 0\n",
    "\n",
    "n = None\n",
    "\n",
    "while list1:  # list1의 요소값이 존재할 때 까지 True이므로 while문을 실행함\n",
    "    print(list1.pop())\n",
    "\n",
    "print(list1)  # list1의 요소값이 더이상 남아있지 않음\n",
    "\n",
    "if dict1:         # if 문은 뒤의 조건이 True면 조건문을 실행함 >> True 출력\n",
    "    print(\"True\")   \n",
    "else:\n",
    "    print(\"False\")  # 조건이 True가 아니면 False 출력"
   ]
  },
  {
   "cell_type": "code",
   "execution_count": 23,
   "metadata": {},
   "outputs": [
    {
     "name": "stdout",
     "output_type": "stream",
     "text": [
      "True\n",
      "False\n",
      "True\n",
      "False\n",
      "True\n",
      "False\n",
      "True\n",
      "False\n",
      "True\n",
      "False\n",
      "False\n"
     ]
    }
   ],
   "source": [
    "# bool() 함수를 사용한 True, False 판별\n",
    "\n",
    "string1 = \"python\"\n",
    "string2 = \"\"\n",
    "\n",
    "list1 = [1, 2, 3]\n",
    "list2 = list()\n",
    "\n",
    "tuple1 = (1, 2, 3)\n",
    "tuple2 = ()\n",
    "\n",
    "dict1 = {\"Korea\": \"Seoul\"}\n",
    "dict2 = dict()\n",
    "\n",
    "print(bool(string1))\n",
    "print(bool(string2))\n",
    "\n",
    "print(bool(list1))\n",
    "print(bool(list2))\n",
    "\n",
    "print(bool(tuple1))\n",
    "print(bool(tuple2))\n",
    "\n",
    "print(bool(dict1))\n",
    "print(bool(dict2))\n",
    "\n",
    "print(bool(1))\n",
    "print(bool(0))\n",
    "\n",
    "print(bool(None))\n"
   ]
  }
 ],
 "metadata": {
  "kernelspec": {
   "display_name": "Python 3",
   "language": "python",
   "name": "python3"
  },
  "language_info": {
   "codemirror_mode": {
    "name": "ipython",
    "version": 3
   },
   "file_extension": ".py",
   "mimetype": "text/x-python",
   "name": "python",
   "nbconvert_exporter": "python",
   "pygments_lexer": "ipython3",
   "version": "3.13.1"
  }
 },
 "nbformat": 4,
 "nbformat_minor": 2
}
