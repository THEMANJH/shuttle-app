{
 "cells": [
  {
   "cell_type": "code",
   "execution_count": 6,
   "metadata": {},
   "outputs": [
    {
     "name": "stdout",
     "output_type": "stream",
     "text": [
      "걸어 가라\n"
     ]
    }
   ],
   "source": [
    "money = False\n",
    "if money:\n",
    "    print('택시 타')\n",
    "else:\n",
    "    print('걸어 가라')"
   ]
  },
  {
   "cell_type": "code",
   "execution_count": 28,
   "metadata": {},
   "outputs": [],
   "source": [
    "def ihave(money):\n",
    "    if money > 3000:\n",
    "        print ('택시 타도 됨')\n",
    "    else:\n",
    "        print ('걸어가 그지야')"
   ]
  },
  {
   "cell_type": "code",
   "execution_count": 29,
   "metadata": {},
   "outputs": [
    {
     "name": "stdout",
     "output_type": "stream",
     "text": [
      "걸어가 그지야\n"
     ]
    }
   ],
   "source": [
    "ihave (3000)"
   ]
  },
  {
   "cell_type": "code",
   "execution_count": 33,
   "metadata": {},
   "outputs": [],
   "source": [
    "'''주머니에 돈이 있으면 택시를 타고 가고, \n",
    "주머니에 돈은 없지만 카드가 있으면 택시를 타고 가고\n",
    "돈도 없고 카드도 없으면 그냥 걸어가라'''\n",
    "\n",
    "pocket = ['money','phone']\n",
    "def what(pocket):\n",
    "    if 'money' in pocket:\n",
    "        print ('ride a taxi')\n",
    "    elif 'card' in pocket:\n",
    "        print ('그래 그냥 타라')\n",
    "    else:\n",
    "        print('걸어가')"
   ]
  },
  {
   "cell_type": "code",
   "execution_count": 34,
   "metadata": {},
   "outputs": [
    {
     "name": "stdout",
     "output_type": "stream",
     "text": [
      "ride a taxi\n"
     ]
    }
   ],
   "source": [
    "what(pocket)"
   ]
  },
  {
   "cell_type": "code",
   "execution_count": 35,
   "metadata": {},
   "outputs": [],
   "source": [
    "def score(score):\n",
    "    if score >= 80:\n",
    "        print('합격입니다')\n",
    "    else:\n",
    "        print('불합격입니다')    "
   ]
  },
  {
   "cell_type": "code",
   "execution_count": 36,
   "metadata": {},
   "outputs": [
    {
     "name": "stdout",
     "output_type": "stream",
     "text": [
      "합격입니다\n"
     ]
    }
   ],
   "source": [
    "score(100)"
   ]
  },
  {
   "cell_type": "code",
   "execution_count": 37,
   "metadata": {},
   "outputs": [
    {
     "name": "stdout",
     "output_type": "stream",
     "text": [
      "불합격입니다\n"
     ]
    }
   ],
   "source": [
    "score(30)"
   ]
  },
  {
   "cell_type": "code",
   "execution_count": null,
   "metadata": {},
   "outputs": [],
   "source": []
  }
 ],
 "metadata": {
  "kernelspec": {
   "display_name": "Python 3",
   "language": "python",
   "name": "python3"
  },
  "language_info": {
   "codemirror_mode": {
    "name": "ipython",
    "version": 3
   },
   "file_extension": ".py",
   "mimetype": "text/x-python",
   "name": "python",
   "nbconvert_exporter": "python",
   "pygments_lexer": "ipython3",
   "version": "3.13.1"
  }
 },
 "nbformat": 4,
 "nbformat_minor": 2
}
