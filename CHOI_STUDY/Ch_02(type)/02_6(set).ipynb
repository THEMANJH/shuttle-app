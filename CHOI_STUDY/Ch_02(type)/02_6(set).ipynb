{
 "cells": [
  {
   "cell_type": "code",
   "execution_count": null,
   "metadata": {},
   "outputs": [
    {
     "name": "stdout",
     "output_type": "stream",
     "text": [
      "{'e', 'l', 'o', 'h'}\n"
     ]
    }
   ],
   "source": [
    "# 집합 자료형 set()\n",
    "s1 = set([1, 2, 3])  # list 자료형을 넣어 집합을 만듦\n",
    "\n",
    "s2 = set(\"hello\")  # set() 함수 안에 문자열을 입력하여 집합을 만듦\n",
    "\n",
    "print(s2)  # {'e', 'o', 'h', 'l'} 리턴"
   ]
  },
  {
   "cell_type": "code",
   "execution_count": 3,
   "metadata": {},
   "outputs": [],
   "source": [
    "# set(집합)은 중복을 허용하지 않고 dictionary와 마찬가지로 순서가 없음.\n",
    "# 따라서 s2=('hello')에서 집합 s2에 l이 하나 제외되고 순서도 뒤바뀜\n",
    "# 중복을 허용하지 않는 특성으로 인해 데이터 중복을 제외하기 위한 필터로도 사용됨"
   ]
  },
  {
   "cell_type": "code",
   "execution_count": null,
   "metadata": {},
   "outputs": [
    {
     "name": "stdout",
     "output_type": "stream",
     "text": [
      "['l', '_', 'o', 't', 'e', 'i', 's']\n"
     ]
    }
   ],
   "source": [
    "# set 자료형에 저장된 값을 인덱싱하는 방법 >> list 자료형으로 만들기\n",
    "s1 = set(\"set_to_list\")\n",
    "a = list(s1)  # ['h', 'p', 't', 'o', 'y', 'n'] 리턴(무작위 순서)\n",
    "print(a)"
   ]
  },
  {
   "cell_type": "code",
   "execution_count": null,
   "metadata": {},
   "outputs": [
    {
     "name": "stdout",
     "output_type": "stream",
     "text": [
      "('l', 'p', '_', 'o', 't', 'e', 'u', 's')\n"
     ]
    }
   ],
   "source": [
    "# set 자료형에 저장된 값을 인덱싱하는 방법 >> tuple 자료형으로 만들기\n",
    "s1 = set(\"set_to_tuple\")\n",
    "a = tuple(s1)\n",
    "print(a)"
   ]
  },
  {
   "cell_type": "code",
   "execution_count": null,
   "metadata": {},
   "outputs": [
    {
     "name": "stdout",
     "output_type": "stream",
     "text": [
      "{4, 5, 6}\n",
      "{4, 5, 6}\n",
      "{4, 5, 6}\n"
     ]
    }
   ],
   "source": [
    "# set끼리의 교집합  >> {&}, {.intersection()}\n",
    "s1 = set([1, 2, 3, 4, 5, 6])\n",
    "s2 = set([4, 5, 6, 7, 8, 9])\n",
    "\n",
    "print(s1 & s2)\n",
    "print(s1.intersection(s2))\n",
    "print(s2.intersection(s1))"
   ]
  },
  {
   "cell_type": "code",
   "execution_count": null,
   "metadata": {},
   "outputs": [
    {
     "name": "stdout",
     "output_type": "stream",
     "text": [
      "{1, 2, 3, 4, 5, 6, 7, 8, 9}\n",
      "{1, 2, 3, 4, 5, 6, 7, 8, 9}\n",
      "{1, 2, 3, 4, 5, 6, 7, 8, 9}\n"
     ]
    }
   ],
   "source": [
    "# set끼리의 합집합 >> {|}, {.union()}\n",
    "s1 = set([1, 2, 3, 4, 5, 6])\n",
    "s2 = set([4, 5, 6, 7, 8, 9])\n",
    "\n",
    "print(s1 | s2)\n",
    "print(s1.union(s2))\n",
    "print(s2.union(s1))  # 4,5,6은 중복되나 한번만 포함시킴함시킴"
   ]
  },
  {
   "cell_type": "code",
   "execution_count": 2,
   "metadata": {},
   "outputs": [
    {
     "name": "stdout",
     "output_type": "stream",
     "text": [
      "{1, 2, 3}\n",
      "{8, 9, 7}\n",
      "{1, 2, 3}\n",
      "{8, 9, 7}\n"
     ]
    }
   ],
   "source": [
    "# set 끼리의 차집합\n",
    "s1 = set([1, 2, 3, 4, 5, 6])\n",
    "s2 = set([4, 5, 6, 7, 8, 9])\n",
    "\n",
    "s3 = s1 - s2\n",
    "s4 = s2 - s1\n",
    "\n",
    "print(s3)\n",
    "print(s4)\n",
    "\n",
    "print(s1.difference(s2))  # s1 - s2 와 동일한 기능\n",
    "print(s2.difference(s1))  # s2 - s1 과 동일한 기능"
   ]
  },
  {
   "cell_type": "code",
   "execution_count": 7,
   "metadata": {},
   "outputs": [
    {
     "name": "stdout",
     "output_type": "stream",
     "text": [
      "{1, 2, 3, 4}\n"
     ]
    }
   ],
   "source": [
    "# 이미 정의된 집합에 값 추가하기 >> .add()\n",
    "s1 = set([1, 2, 3])\n",
    "s1.add(4)\n",
    "\n",
    "print(s1)"
   ]
  },
  {
   "cell_type": "code",
   "execution_count": null,
   "metadata": {},
   "outputs": [
    {
     "name": "stdout",
     "output_type": "stream",
     "text": [
      "{1, 2, 3, 4, 5, 6, 'e', 'o', 'l', 'g', 'h'}\n"
     ]
    }
   ],
   "source": [
    "# 이미 정의된 집합에 여러 값 추가하기 >> .update()\n",
    "s1 = set([1, 2, 3])\n",
    "s1.update([4, 5, 6, \"g\"], \"hello\")\n",
    "\n",
    "print(s1)"
   ]
  },
  {
   "cell_type": "code",
   "execution_count": null,
   "metadata": {},
   "outputs": [
    {
     "name": "stdout",
     "output_type": "stream",
     "text": [
      "{1, 2, 3}\n"
     ]
    }
   ],
   "source": [
    "# 특정 값 제거하기 >> .remove()\n",
    "s1 = set([1, 2, 3, 4])\n",
    "s1.remove(4)\n",
    "\n",
    "print(s1)"
   ]
  }
 ],
 "metadata": {
  "kernelspec": {
   "display_name": "Python 3",
   "language": "python",
   "name": "python3"
  },
  "language_info": {
   "codemirror_mode": {
    "name": "ipython",
    "version": 3
   },
   "file_extension": ".py",
   "mimetype": "text/x-python",
   "name": "python",
   "nbconvert_exporter": "python",
   "pygments_lexer": "ipython3",
   "version": "3.13.1"
  }
 },
 "nbformat": 4,
 "nbformat_minor": 2
}
