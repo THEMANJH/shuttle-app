{
 "cells": [
  {
   "cell_type": "markdown",
   "metadata": {},
   "source": [
    "자료형의 값을 저장하는 공간, 변수"
   ]
  },
  {
   "cell_type": "code",
   "execution_count": null,
   "metadata": {},
   "outputs": [
    {
     "data": {
      "text/plain": [
       "2149458902912"
      ]
     },
     "execution_count": 2,
     "metadata": {},
     "output_type": "execute_result"
    }
   ],
   "source": [
    "a = [1, 2, 3]\n",
    "# a : [1,2,3]의 list가 저장된 메모리의 주소를 가리키게 됨\n",
    "# [1,2,3] : 객체(데이터)\n",
    "\n",
    "# id() 함수 : 변수가 가리키는 메모리의 주소를 표시해줌\n",
    "id(a)"
   ]
  },
  {
   "cell_type": "code",
   "execution_count": 5,
   "metadata": {},
   "outputs": [
    {
     "name": "stdout",
     "output_type": "stream",
     "text": [
      "2149458894912\n",
      "2149458894912\n",
      "[1, 4, 3]\n"
     ]
    }
   ],
   "source": [
    "# 리스트를 복사할 때\n",
    "\n",
    "a = [1, 2, 3]\n",
    "b = a  # list 객체를 참조하는 a를 b에 대입하면 결국 list 객체 [1,2,3]을 참조하는 변수가 2개가 되는 것(a와 b)\n",
    "\n",
    "print(id(a))\n",
    "print(id(b))  # a와 b는 같은 메모리 주소를 가리키게 됨\n",
    "\n",
    "a[1] = 4  # list의 두번째 요소인 2를 4로 변경\n",
    "\n",
    "print(b)  # b는 원래의 list 객체를 참조하는 변수이고 그 list가 변경되었으므로 변경된 list를 출력함\n",
    "\n",
    "# 결국 list 객체를 나타내는 변수를 다른 변수에 대입하면 새로운 list 객체를 만드는 것이 아니라 기존의 list 객체를 참조하는 새로운 변수를 만들게 됨\n",
    "# list 자료형이 아닌 int(정수형) 자료형은 대입 시 새로운 객체를 생성하여 기존의 데이터를 변경해도 영향을 받지 않음(메모리의 효율적인 사용과 연관됨)"
   ]
  },
  {
   "cell_type": "code",
   "execution_count": 7,
   "metadata": {},
   "outputs": [
    {
     "data": {
      "text/plain": [
       "True"
      ]
     },
     "execution_count": 7,
     "metadata": {},
     "output_type": "execute_result"
    }
   ],
   "source": [
    "# is : 변수가 가리키는 대상이 같은지 확인하는 함수\n",
    "a = [1, 3, 5, 6]\n",
    "b = a\n",
    "\n",
    "a is b  # True 반환"
   ]
  },
  {
   "cell_type": "code",
   "execution_count": null,
   "metadata": {},
   "outputs": [
    {
     "name": "stdout",
     "output_type": "stream",
     "text": [
      "[1, 4, 3]\n",
      "[1, 2, 3]\n"
     ]
    }
   ],
   "source": [
    "# 변수를 대입할 때 데이터만 같게 하고 다른 주소로 지정(새로운 객체(데이터)만들기) >> [:] 사용\n",
    "\n",
    "a = [1, 2, 3]\n",
    "b = a[:]  # a와 같은 주소의 데이터를 참조하지 않고 변수 b 자체의 새로운 객체를 만듦\n",
    "\n",
    "a[1] = 4   # 따라서 a 가 가리키는 주소의 객체와 b가 가리키는 주소의 객체는 관련 없는 데이터이므로 a가 변해도 b는 불변\n",
    "\n",
    "print(a)\n",
    "print(b)"
   ]
  },
  {
   "cell_type": "code",
   "execution_count": 13,
   "metadata": {},
   "outputs": [
    {
     "name": "stdout",
     "output_type": "stream",
     "text": [
      "[1, 2, 3]\n"
     ]
    },
    {
     "data": {
      "text/plain": [
       "False"
      ]
     },
     "execution_count": 13,
     "metadata": {},
     "output_type": "execute_result"
    }
   ],
   "source": [
    "# copy 모듈 이용하기\n",
    "from copy import copy  # copy 함수를 쓰기 위한 문장\n",
    "\n",
    "a = [1, 2, 3]\n",
    "b = copy(a)\n",
    "\n",
    "a[2]=5\n",
    "print(b)    # b의 데이터가 변하지 않음\n",
    "\n",
    "b is a  # a와 b의 주소가 다르므로 False 출력"
   ]
  },
  {
   "cell_type": "code",
   "execution_count": null,
   "metadata": {},
   "outputs": [
    {
     "name": "stdout",
     "output_type": "stream",
     "text": [
      "[1, 2, 3]\n"
     ]
    }
   ],
   "source": [
    "# list 자체 함수인 .copy() 사용\n",
    "\n",
    "a = [1, 2, 3]\n",
    "b = a.copy()\n",
    "\n",
    "a[0] = 4\n",
    "\n",
    "print(b)"
   ]
  },
  {
   "cell_type": "code",
   "execution_count": null,
   "metadata": {},
   "outputs": [
    {
     "name": "stdout",
     "output_type": "stream",
     "text": [
      "python\n",
      "life\n",
      "2149361707280\n",
      "2149458640064\n"
     ]
    },
    {
     "data": {
      "text/plain": [
       "str"
      ]
     },
     "execution_count": 19,
     "metadata": {},
     "output_type": "execute_result"
    }
   ],
   "source": [
    "a, b = (\"python\", \"life\")  # == (a, b) = 'python', 'life'\n",
    "\n",
    "print(a)\n",
    "print(b)\n",
    "\n",
    "print(id(a))\n",
    "print(id(b))\n",
    "\n",
    "type(a)"
   ]
  },
  {
   "cell_type": "code",
   "execution_count": 22,
   "metadata": {},
   "outputs": [
    {
     "name": "stdout",
     "output_type": "stream",
     "text": [
      "python\n",
      "life\n",
      "['python', 'life']\n"
     ]
    },
    {
     "data": {
      "text/plain": [
       "str"
      ]
     },
     "execution_count": 22,
     "metadata": {},
     "output_type": "execute_result"
    }
   ],
   "source": [
    "[a,b]=['python','life']\n",
    "\n",
    "print(a)\n",
    "print(b)\n",
    "\n",
    "print([a,b])\n",
    "type(a)"
   ]
  },
  {
   "cell_type": "code",
   "execution_count": null,
   "metadata": {},
   "outputs": [
    {
     "name": "stdout",
     "output_type": "stream",
     "text": [
      "True\n",
      "life\n",
      "python\n",
      "False\n"
     ]
    }
   ],
   "source": [
    "a=b='python'\n",
    "\n",
    "print(a is b)\n",
    "\n",
    "a=a.replace('python','life')    # 새로운 객체를 생성해서 a가 참조 >> b와는 다른 주소를 가리키게 됨됨\n",
    "\n",
    "print(a)\n",
    "print(b)\n",
    "\n",
    "print(a is b)"
   ]
  },
  {
   "cell_type": "code",
   "execution_count": 37,
   "metadata": {},
   "outputs": [
    {
     "name": "stdout",
     "output_type": "stream",
     "text": [
      "5 3\n"
     ]
    }
   ],
   "source": [
    "# 대입의 특징\n",
    "\n",
    "a=3\n",
    "b=5\n",
    "\n",
    "a,b=b,a     # 문장 실행 중간에 a의 값을 바꾸지 않고 문장이 다 끝난 뒤에 a의 값을 바꿈\n",
    "\n",
    "print(a,b)\n"
   ]
  }
 ],
 "metadata": {
  "kernelspec": {
   "display_name": "Python 3",
   "language": "python",
   "name": "python3"
  },
  "language_info": {
   "codemirror_mode": {
    "name": "ipython",
    "version": 3
   },
   "file_extension": ".py",
   "mimetype": "text/x-python",
   "name": "python",
   "nbconvert_exporter": "python",
   "pygments_lexer": "ipython3",
   "version": "3.13.1"
  }
 },
 "nbformat": 4,
 "nbformat_minor": 2
}
