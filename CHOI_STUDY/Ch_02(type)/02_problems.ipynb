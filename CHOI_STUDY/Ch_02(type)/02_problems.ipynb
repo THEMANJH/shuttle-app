{
 "cells": [
  {
   "cell_type": "markdown",
   "metadata": {},
   "source": [
    "Q1.국어 80, 영어 75, 수학 55 점인 학생의 평균 점수 구하기"
   ]
  },
  {
   "cell_type": "code",
   "execution_count": null,
   "metadata": {},
   "outputs": [
    {
     "name": "stdout",
     "output_type": "stream",
     "text": [
      "평균 점수 : 70.0점\n"
     ]
    }
   ],
   "source": [
    "score = (80, 75, 55)\n",
    "total = 0\n",
    "i = 0\n",
    "\n",
    "while i < len(score):\n",
    "    total = total + score[i]\n",
    "    i += 1\n",
    "\n",
    "print(f\"평균 점수 : {total/len(score)}점\")"
   ]
  },
  {
   "cell_type": "markdown",
   "metadata": {},
   "source": [
    "Q2.자연수 13이 홀수인지 짝수인지 판별하는 방법법"
   ]
  },
  {
   "cell_type": "code",
   "execution_count": 11,
   "metadata": {},
   "outputs": [
    {
     "name": "stdout",
     "output_type": "stream",
     "text": [
      "13은 홀수입니다.\n"
     ]
    }
   ],
   "source": [
    "n = 13\n",
    "\n",
    "r = n % 2  # 나머지 연산자 %\n",
    "\n",
    "if r == 0:\n",
    "    print(f\"{n}은 짝수입니다.\")\n",
    "else:\n",
    "    print(f\"{n}은 홀수입니다.\")"
   ]
  },
  {
   "cell_type": "markdown",
   "metadata": {},
   "source": [
    "Q3.홍길동씨의 주민번호는 881120-1068234이다. 주민번호를 연월일(YYMMDD)부분과 그 뒤의 숫자 부분으로 나누어 출력해보자."
   ]
  },
  {
   "cell_type": "code",
   "execution_count": null,
   "metadata": {},
   "outputs": [
    {
     "name": "stdout",
     "output_type": "stream",
     "text": [
      "881120\n",
      "1068234\n"
     ]
    }
   ],
   "source": [
    "pin = \"881120-1068234\"\n",
    "birth = pin[:6]\n",
    "num = pin[7:]\n",
    "\n",
    "print(birth)\n",
    "print(num)"
   ]
  },
  {
   "cell_type": "markdown",
   "metadata": {},
   "source": [
    "Q4.주민등록번호 뒷부분의 첫 숫자를 이용해서 당사자의 성별을 판단해보자. 881120-1068234"
   ]
  },
  {
   "cell_type": "code",
   "execution_count": 16,
   "metadata": {},
   "outputs": [
    {
     "name": "stdout",
     "output_type": "stream",
     "text": [
      "남성입니다.\n"
     ]
    }
   ],
   "source": [
    "pin = \"881120-1068234\"\n",
    "gender = pin[7]\n",
    "\n",
    "if gender == \"1\":  # pin[7]에 객체가 문자열이기 때문에 1이 아닌 '1'과 동일해야함\n",
    "    print(\"남성입니다.\")\n",
    "else:\n",
    "    print(\"여성입니다.\")"
   ]
  },
  {
   "cell_type": "markdown",
   "metadata": {},
   "source": [
    "Q5.문자열 a:b:c:d에서 replace 함수를 이용해서 a#b#c#d로 변경한 문자열 출력력"
   ]
  },
  {
   "cell_type": "code",
   "execution_count": null,
   "metadata": {},
   "outputs": [
    {
     "name": "stdout",
     "output_type": "stream",
     "text": [
      "a#b#c#d\n"
     ]
    }
   ],
   "source": [
    "a = \"a:b:c:d\"\n",
    "b = a.replace(\":\", \"#\")\n",
    "\n",
    "print(b)"
   ]
  },
  {
   "cell_type": "markdown",
   "metadata": {},
   "source": [
    "Q6.list [1,3,5,4,2]를 [5,4,3,2,1]로 변경"
   ]
  },
  {
   "cell_type": "code",
   "execution_count": null,
   "metadata": {},
   "outputs": [
    {
     "name": "stdout",
     "output_type": "stream",
     "text": [
      "[5, 4, 3, 2, 1]\n"
     ]
    }
   ],
   "source": [
    "a = [1, 3, 5, 4, 2]\n",
    "a.sort()  # sort와 reverse 함수는 변수의 리스트를 적접 변형시키며 반환값은 None이다.\n",
    "a.reverse()  # 따라서 a = a.sort()처럼 작성하면 a = None 이 되므로 a.reverse()에서 오류 발생생\n",
    "print(a)"
   ]
  },
  {
   "cell_type": "markdown",
   "metadata": {},
   "source": [
    "Q7.list ['life', 'is', 'too', 'short']를 문자열 'life is too short'로 만들어 출력. join함수 사용용"
   ]
  },
  {
   "cell_type": "code",
   "execution_count": null,
   "metadata": {},
   "outputs": [
    {
     "name": "stdout",
     "output_type": "stream",
     "text": [
      "life is too short\n"
     ]
    }
   ],
   "source": [
    "a = [\"life\", \"is\", \"too\", \"short\"]\n",
    "result = \" \".join(a)\n",
    "\n",
    "print(result)"
   ]
  },
  {
   "cell_type": "markdown",
   "metadata": {},
   "source": [
    "Q8.(1,2,3) tuple값에 4를 추가 (+)사용용"
   ]
  },
  {
   "cell_type": "code",
   "execution_count": null,
   "metadata": {},
   "outputs": [
    {
     "name": "stdout",
     "output_type": "stream",
     "text": [
      "(1, 2, 3, 4)\n"
     ]
    }
   ],
   "source": [
    "a = 1, 2, 3\n",
    "a = a + (4,)  # (4,)라는 하나의 요소를 가진 튜플을 a라는 튜플에 더해서 새로운 tuple을 a에 다시 지정정\n",
    "\n",
    "print(a)"
   ]
  },
  {
   "cell_type": "markdown",
   "metadata": {},
   "source": [
    "Q10.dictionary a에서 B에 해당하는 값 추출.  dictionary의 pop 함수 사용용\n",
    "a={'A':90, 'B':80, 'C':70}"
   ]
  },
  {
   "cell_type": "code",
   "execution_count": 25,
   "metadata": {},
   "outputs": [
    {
     "name": "stdout",
     "output_type": "stream",
     "text": [
      "{'A': 90, 'C': 70}\n",
      "80\n"
     ]
    }
   ],
   "source": [
    "a={'A':90, 'B':80, 'C':70}\n",
    "result=a.pop('B')\n",
    "\n",
    "print(a)\n",
    "print(result)"
   ]
  },
  {
   "cell_type": "markdown",
   "metadata": {},
   "source": [
    "Q11. list a에서 중복숫자 제거\n",
    "a=[1,1,1,2,2,3,3,3,4,4,5]"
   ]
  },
  {
   "cell_type": "code",
   "execution_count": null,
   "metadata": {},
   "outputs": [
    {
     "name": "stdout",
     "output_type": "stream",
     "text": [
      "{1, 2, 3, 4, 5}\n",
      "[1, 2, 3, 4, 5]\n"
     ]
    }
   ],
   "source": [
    "a = [1, 1, 1, 2, 2, 3, 3, 3, 4, 4, 5]\n",
    "\n",
    "a = set(a)  # list a를 set 자료형으로 변환하여 대입\n",
    "print(a)\n",
    "\n",
    "a = list(a)  # set a를 list 자료형으로 변환하여 대입\n",
    "print(a)"
   ]
  },
  {
   "cell_type": "code",
   "execution_count": 29,
   "metadata": {},
   "outputs": [
    {
     "name": "stdout",
     "output_type": "stream",
     "text": [
      "[1, 2, 3, 4, 5]\n"
     ]
    }
   ],
   "source": [
    "# 동일한 문제의 다른 풀이\n",
    "a = [1, 1, 1, 2, 2, 3, 3, 3, 4, 4, 5]\n",
    "\n",
    "aSet = set(a)\n",
    "\n",
    "b=list(aSet)\n",
    "\n",
    "print(b)"
   ]
  },
  {
   "cell_type": "markdown",
   "metadata": {},
   "source": [
    "Q12.파이썬은 동일한 값(객체 또는 데이터)에 여러개의 변수 지정 가능.\n",
    ">>>a=b=[1,2,3]\n",
    ">>>a[1]=4\n",
    ">>>print(b)\n",
    "위와 같은 코드에서 b의 값은 어떻게 되는가. 그 이유와 함께 설명하라.\n",
    "\n",
    "Ans.\n",
    "변수 a와 b는 list [1,2,3]의 데이터를 참조하므로 그 데이터가 있는 메모리 주소를 가리킨다.\n",
    "이때 a 변수로 리스트의 값을 바꾸면 list의 데이터가 변경되고 변경된 데이터 주소는 b 역시 동일하게 가리키기 때문에 b의 데이터 역시 바뀌게된다.\n",
    "\n",
    "따라서 print(b)의 출력은 [1,4,3]이다."
   ]
  }
 ],
 "metadata": {
  "kernelspec": {
   "display_name": "Python 3",
   "language": "python",
   "name": "python3"
  },
  "language_info": {
   "codemirror_mode": {
    "name": "ipython",
    "version": 3
   },
   "file_extension": ".py",
   "mimetype": "text/x-python",
   "name": "python",
   "nbconvert_exporter": "python",
   "pygments_lexer": "ipython3",
   "version": "3.13.1"
  }
 },
 "nbformat": 4,
 "nbformat_minor": 2
}
